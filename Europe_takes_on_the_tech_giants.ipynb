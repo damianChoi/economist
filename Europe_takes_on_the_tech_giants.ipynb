{
  "nbformat": 4,
  "nbformat_minor": 0,
  "metadata": {
    "colab": {
      "name": "Europe takes on the tech giants.ipynb",
      "version": "0.3.2",
      "provenance": [],
      "include_colab_link": true
    },
    "kernelspec": {
      "name": "python3",
      "display_name": "Python 3"
    }
  },
  "cells": [
    {
      "cell_type": "markdown",
      "metadata": {
        "id": "view-in-github",
        "colab_type": "text"
      },
      "source": [
        "<a href=\"https://colab.research.google.com/github/damianChoi/economist/blob/master/Europe_takes_on_the_tech_giants.ipynb\" target=\"_parent\"><img src=\"https://colab.research.google.com/assets/colab-badge.svg\" alt=\"Open In Colab\"/></a>"
      ]
    },
    {
      "metadata": {
        "id": "GwDEuJKGvgZA",
        "colab_type": "text"
      },
      "cell_type": "markdown",
      "source": [
        "# Summary\n",
        "\n",
        "* the number of paragraphs: 9\n"
      ]
    },
    {
      "metadata": {
        "id": "yRbXR6JBtSva",
        "colab_type": "text"
      },
      "cell_type": "markdown",
      "source": [
        "# Europe takes on the tech giant\n",
        "* take on: to fight or compete against someone or something   \n",
        "\"I’ll take you on in a game of chess.\"   \n",
        "\"You have to be brave to take on a big corporation in court.\""
      ]
    },
    {
      "metadata": {
        "id": "1bC8qEqhuXOs",
        "colab_type": "text"
      },
      "cell_type": "markdown",
      "source": [
        "# Paragraph One\n",
        "\n",
        "* **America is also where the debate rages loudly over how to tame the tech giants, so that they act in the public interest**\n",
        "\n",
        "* Nowhere is that truer than in the tech industry: That is truer nowhere than in the tech industry; That is truer in the tech industry than anywhere\n",
        "\n",
        "* rage v. continue with great force or intensity.    \n",
        "\"the argument raged for days\"   \n",
        "synonyms:\tbe violent, be at its height, be turbulent, *be tempestuous*, be uncontrollable, thunder, rampage   \n",
        "\"a tropical storm was raging\"\n",
        "\n",
        "* in prep. You use in to indicate the feeling or desire which someone has when they do something, or which causes them to do it.   \n",
        "Simpson looked at them in surprise.   \n",
        "Chris was weeping in anger and grief.   \n",
        "Carl pushed ahead in his eagerness to reach the wall.   \n",
        "\n",
        "* tycoon n. a wealthy, powerful person in business or industry.   \n",
        "\"a newspaper tycoon\"   \n",
        "synonyms:\tmagnate, mogul, big businessman, baron, merchant prince, captain of industry, industrialist, financier, top executive, chief, lord, magnifico, nabob, grandee\n",
        "\n",
        "* roast v. criticize or reprimand severely.   \n",
        "\"if you waste his time he'll roast you\"\n",
        "\n",
        "* lapse n. A lapse is a moment or instance of bad behaviour by someone who usually behaves well.   \n",
        "n. a temporary deviation or fall especially from a higher to a lower state   \n",
        "a lapse from grace    \n",
        "ethical lapses\n",
        "\n",
        "* Facebook may face multibillion-dollar US fine over privacy lapses: Company said to be negotiating settlement with FTC after revelations it inappropriately shared 87m users’ information\n",
        "\n",
        "\n"
      ]
    },
    {
      "metadata": {
        "id": "V-go_FNV03Z5",
        "colab_type": "text"
      },
      "cell_type": "markdown",
      "source": [
        "# Paragraph Two\n",
        "\n",
        "* **the EU is pionerring a distinct tech doctrine that aims to give individuals control over their own information and the profits from it, and to prise open tech firms to competition**\n",
        "\n",
        "* invert: put upside down or in the opposite position, order, or arrangement.\n",
        "synonyms:\tturn upside down, upturn, upend, turn around, turn about, turn inside out, turn back to front, reverse, flip (over), transpose   \n",
        "\"the crew inverted the yacht's mast\"\n",
        "\n",
        "* rule of thumb: a broadly accurate guide or principle, based on experience or practice rather than theory.\n",
        "\n",
        "* be indecisive.   \n",
        "\"he was dithering about the election date\"   \n",
        "synonyms:\thesitate, falter, waver, teeter, vacillate, oscillate, fluctuate, change one's mind, be in two minds, be ambivalent, be indecisive, be unsure, be undecided\n",
        "\n",
        "* strangle v. squeeze or constrict the neck of (a person or animal), especially so as to cause death.   \n",
        "\"the victim was strangled with a scarf\"   \n",
        "synonyms:\tthrottle, choke, garrotte; \n",
        "v. suppress (an impulse, action, or sound).   \n",
        "\"she strangled a sob\"   \n",
        "synonyms:\tsuppress, smother, stifle, repress, restrain, hold back, hold in, fight back, bite back, gulp back, swallow, choke back, check\n",
        "\n",
        "* prise v. use force in order to move, move apart, or open (something).   \n",
        "\"I tried to prise Joe's fingers away from the stick\"   \n",
        "synonyms:\tlever, force, wrench, pull, wrest, twist\n",
        "\n",
        "* commensurate: corresponding in size or degree; in proportion.   \n",
        "\"salary will be commensurate with experience\"   \n",
        "synonyms:\tequivalent, equal, corresponding, correspondent, comparable, proportionate, proportional"
      ]
    },
    {
      "metadata": {
        "id": "kDn91QOu61Bb",
        "colab_type": "text"
      },
      "cell_type": "markdown",
      "source": [
        "# Paragraph Three\n",
        "\n",
        "* **Yet vital questions remain: who controls the data? How should the profits be distributed?**\n",
        "\n",
        "* showdown n. a final test or confrontation intended to settle a dispute.   \n",
        "synonyms:\tconfrontation, deciding event, clash, face-off, moment of truth, crisis   \n",
        "\"the government was contemplating a future showdown with the miners\"\n",
        "\n",
        "* contemplate: look thoughtfully for a long time at.   \n",
        "\"he sat on the carpet contemplating his image in the mirrors\"   \n",
        "synonyms:\tlook at, view, regard, examine, inspect, observe, survey, study, scrutinize, scan, stare at, gaze at, eye, take a good look at; literarybehold   \n",
        "\"she contemplated her body in the mirror\"\n",
        "\n",
        "* take off phrasal v. (of an aircraft or bird) become airborne.   \n",
        "synonyms:\tbecome airborne, leave the ground, take to the air, take wing;\n",
        "phrasal v. (of an enterprise) become successful or popular.   \n",
        "\"the newly launched electronic newspaper has really taken off\"   \n",
        "synonyms:\tsucceed, do well, become popular, catch on, progress, prosper, flourish, thrive, boom, turn out well, work (out)   \n",
        "\"the idea really took off\"   \n",
        "antonyms:\tfail, flop\n",
        "\n",
        "* swamp v. overwhelm or flood with water.   \n",
        "\"a huge wave swamped the canoes\"   \n",
        "synonyms:\tflood, inundate, deluge, wash out, soak, drench, saturate, immerse\n",
        "\"the rain was driving down with great force, swamping the dry ground\""
      ]
    },
    {
      "metadata": {
        "id": "KKFUVx4X4vtM",
        "colab_type": "text"
      },
      "cell_type": "markdown",
      "source": [
        "# Paragraph Four\n",
        "\n",
        "* **In fact Europe has clout and new ideas**\n",
        "\n",
        "* clout n. a heavy blow with the hand or a hard object.   \n",
        "\"a clout on the ear\"\n",
        "n. influence or power, especially in politics or business.   \n",
        "\"I knew he carried a lot of clout\"   \n",
        "synonyms:\tinfluence, power, pull, weight, sway, leverage, control, say, mastery, dominance, domination, advantage\n",
        "\n",
        "* vigilant adj. keeping careful watch for possible danger or difficulties.   \n",
        "\"the burglar was spotted by vigilant neighbors\"   \n",
        "synonyms:\twatchful, on the lookout, observant, sharp-eyed, keen-eyed, gimlet-eyed, eagle-eyed, hawk-eyed, with eyes like a hawk, with one's eyes open, keeping one's eyes peeled/skinned, attentive, paying attention, alert, on the alert, on one's toes, on the quivive\n",
        "\n"
      ]
    },
    {
      "metadata": {
        "id": "BpfkS3A-9ckZ",
        "colab_type": "text"
      },
      "cell_type": "markdown",
      "source": [
        "# Paragraph Five\n",
        "\n",
        "* **Instead the eu's doctrine marries two approaches**\n",
        "\n",
        "* stodgy adj. dull and uninspired.   \n",
        "\"some of the material is rather stodgy and top-heavy with facts\"   \n",
        "synonyms:\tboring, dull, uninteresting, dreary, deadly\n",
        "\n",
        "* Facebabies, Googlettes: According to this job listing on Craig’s List, Google is fostering internal start-ups called Googlettes. While Google doesn’t seem to be talking publicly about them, word on the street is that these may be the basis Google’s strategy for managed growth.\n",
        "\n",
        "* marry v. cause to meet or fit together; combine.\n",
        "\"the show marries poetry with art\"\n",
        "\n",
        "* draw on phrasal v.  to use information or your knowledge of something to help you do something   \n",
        "His novels draw heavily on his childhood.   \n",
        "She had a wealth of experience to draw on.\n",
        "\n"
      ]
    },
    {
      "metadata": {
        "id": "bhbL2UGXDBat",
        "colab_type": "text"
      },
      "cell_type": "markdown",
      "source": [
        "# Paragraph Seven\n",
        "* hoard v. amass (money or valued objects) and hide or store away.   \n",
        "\"thousands of antiques hoarded by a compulsive collector\"   \n",
        "synonyms:\tstore, store up, stock up on, stockpile, put aside, put by, put away, lay by, lay in, lay up, set aside, stow away, buy up, cache, amass, heap up, pile up, stack up\n",
        "\n",
        "* amass v. gather together or accumulate (a large amount or number of valuable material or things) over a period of time.   \n",
        "\"starting from nothing he had amassed a huge fortune\"   \n",
        "synonyms:\tgather, collect, assemble   \n",
        "antonyms:\tdissipate"
      ]
    },
    {
      "metadata": {
        "id": "bd5oROumEPe4",
        "colab_type": "text"
      },
      "cell_type": "markdown",
      "source": [
        "# Paragraph Nine\n",
        "\n",
        "* clunky adj. awkwardly solid, heavy, and outdated.    \n",
        "\"even last year's laptops look clunky\"\n",
        "\n",
        "* loth(loath) adj. reluctant; unwilling.   \n",
        "\"I was loath to leave\"   \n",
        "synonyms:\treluctant, unwilling, disinclined, ill-disposed, not in the mood;\n",
        "\n",
        "* silo n. a system, process, department, etc. that operates in isolation from others.\n",
        "\"it's vital that team members step out of their silos and start working together\"\n",
        "\n",
        "* secretive: (of a state or activity) characterized by the concealment of intentions and information.   \n",
        "\"secretive deals\"\n",
        "\n",
        "* turn v. change in nature, state, form, or color; become.   \n",
        "\"Emmeline turned pale\"   \n",
        "synonyms:\tbecome, develop into, prove to be, turn out to be;"
      ]
    }
  ]
}