{
  "nbformat": 4,
  "nbformat_minor": 0,
  "metadata": {
    "colab": {
      "name": "Oh FUCK! What next for Brexit?.ipynb",
      "version": "0.3.2",
      "provenance": [],
      "include_colab_link": true
    },
    "kernelspec": {
      "name": "python3",
      "display_name": "Python 3"
    }
  },
  "cells": [
    {
      "cell_type": "markdown",
      "metadata": {
        "id": "view-in-github",
        "colab_type": "text"
      },
      "source": [
        "<a href=\"https://colab.research.google.com/github/damianChoi/economist/blob/master/Oh_FUCK!_What_next_for_Brexit%3F.ipynb\" target=\"_parent\"><img src=\"https://colab.research.google.com/assets/colab-badge.svg\" alt=\"Open In Colab\"/></a>"
      ]
    },
    {
      "metadata": {
        "id": "Qcvs23UE5vkv",
        "colab_type": "text"
      },
      "cell_type": "markdown",
      "source": [
        "# Words on Article\n",
        "------\n",
        "* seize a chance/an opportunity/the initiative: to quickly and eagerly do something when you have the chance to\n",
        "\n",
        "* Come + infinitive can mean that something happens or develops, perhaps outside the subject's control. e.g. I have come to see that you were right all along.\n",
        "\n",
        "* MP:  (Member of Parliament) someone who has been elected to a parliament to represent people from a particular area of the country. e.g. She’s one of the MPs for Liverpool.\n",
        "\n",
        "* scornful: feeling or expressing contempt or derision. syn. contemptuous, full of contempt, derisive, derisory, withering, mocking, scoffing, sneering, jeering, scathing, snide, disparaging, slighting, supercilious, disdainful, superior, dismissive\n",
        "\n",
        "* throw sth out: (of a court, legislature, or other body) dismiss or reject something brought before it. e.g. The charges were thrown out by the judge. syn. reject, dismiss, turn down, say ‘no’ to, refuse, disallow, veto, squash\n",
        "\n",
        "* faction: a small organized dissenting group within a larger one, especially in politics. e.g. the left-wing faction of the party\n",
        "\n",
        "* splinter: break or cause to break into small sharp fragments.\n",
        "\n",
        "* ever: increasingly; constantly. e.g. \"having to borrow ever larger sums\"\n",
        "\n",
        "* by: indicating a unit of measurement. e.g. \"billing is by the minute\"\n",
        "\n",
        "* laughing-stock: a person subjected to general mockery or ridicule. e.g. \"she was the laughingstock of her class\". syn. \tfigure of fun, object of ridicule, dupe, butt, fool, joke, standing joke, everybody's fool, stooge\n",
        "\n",
        "* unflappable: having or showing calmness in a crisis. e.g. \"I prided myself on being unflappable even in the most chaotic circumstances\"\n",
        "\n",
        "* stiff: not easily bent or changed in shape; rigid.\n",
        "\n",
        "* treachery: betrayal of trust; deceptive action or nature. e.g. \"his resignation was perceived as an act of treachery\"\n",
        "\n",
        "* demolish: pull or knock down (a building).\n",
        "\n",
        "* get the worst of(make the worst of?): to feel or experience the most negative aspects of something.\n",
        "\n",
        "* give it  a shot: (idiomatic) Try or attempt (something). e.g. I don’t think it will work, but I suppose you could give it a shot.\n",
        "\n",
        "* When a newspaper or magazine goes to press, it starts being printed.\n",
        "\n",
        "* grievous: (of something bad) very severe or serious.\n",
        "\n",
        "* cudgel: a short, thick stick used as a weapon. beat with a cudgel.\n",
        "\n",
        "* altogether: completely; totally. e.g. \"I stopped seeing her altogether\".\n",
        "\n",
        "* wretched: (of a person) in a very unhappy or unfortunate state. e.g. \"I felt so wretched because I thought I might never see you again\" syn.\tmiserable, unhappy, sad, broken-hearted, heartbroken, grief-stricken, grieving, sorrowful, sorrowing, mourning, anguished, distressed, desolate, devastated, despairing, inconsolable, disconsolate, downcast, down, downhearted, dejected, crestfallen, cheerless, depressed, melancholy, morose, gloomy, glum, mournful, doleful, dismal, forlorn, woeful, woebegone, abject, low-spirited, long-faced;\n",
        "\n",
        "* daunting: seeming difficult to deal with in anticipation; intimidating. e.g. \"a daunting task\"\n",
        "\n",
        "* impasse: a situation in which no progress is possible, especially because of disagreement; a deadlock. \"the current political impasse\" synonyms:\tdeadlock, dead end, stalemate, checkmate, standoff;\n",
        "\n",
        "* forge: create (a relationship or new conditions). \"the two women forged a close bond\" synonyms:\tbuild, build up, construct, form, create, establish, set up, put together \"they forged a partnership with city government\"\n",
        "\n",
        "* shot: ruined or worn out. \"a completely shot engine will put you out of the race\"\n",
        "\n",
        "* flop: (of a performer or show) be completely unsuccessful; fail totally. \"prime-time dramas that flopped in the US market\" synonyms:\tbe unsuccessful, fail, not work, fall flat, founder, misfire, backfire, be a disappointment, do badly, lose money, be a disaster, meet with disaster, come to grief, miss the mark, run aground\n",
        "\n",
        "* logjam: a crowded mass of logs blocking a river.\n",
        "\n",
        "* install: place or fix (equipment or machinery) in position ready for use. \"we're planning to install a new shower\" synonyms:\tput, position, place, put in place, set in place, fix, fit, locate, situate, station, site, lodge, establish\n",
        "\n",
        "* mandate: the authority to carry out a policy or course of action, regarded as given by the electorate to a candidate or party that is victorious in an election.\n",
        "\n",
        "* fall in to line: conform with others or with accepted behavior.\n",
        "\n",
        "* manifesto: a public declaration of policy and aims, especially one issued before an election by a political party or candidate. \"a manifesto for gay liberation\" synonyms:\tpolicy statement, platform, program, declaration, proclamation, pronouncement, announcement, publication, notification; pronunciamento\n",
        "\n",
        "* drub: defeat thoroughly in a match or contest. \"Cleveland drubbed Baltimore 9–0\"\n",
        "\n",
        "* turd: a lump of excrement.\n",
        "\n",
        "* gridlock: Gridlock is a form of traffic congestion where \"continuous queues of vehicles block an entire network of intersecting streets, bringing traffic in all directions to a complete standstill\".\n",
        "\n",
        "* whip: A whip is an official of a political party whose task is to ensure party discipline in a legislature. This usually means ensuring that members of the party vote according to the party platform, rather than according to their own individual ideology or the will of their constituents.\n",
        "\n",
        "* fray: (of a fabric, rope, or cord) unravel or become worn at the edge, typically through constant rubbing. \"cheap fabric soon frays\"\n",
        "\n",
        "\n",
        "* unravel: (of twisted, knitted or woven threads) become undone. \"part of the crew neck had unraveled\"\n",
        "\n",
        "* crew neck: a close-fitting round neckline on a sweater or T-shirt.\n",
        "\n",
        "* Commons: short for House of Commons.\n",
        "\n",
        "* concoct: make (a dish or meal) by combining various ingredients. \"they concoct relish from corn that is so naturally sweet no extra sugar is needed\" synonyms:\tprepare, make, put together, assemble; create or devise (said especially of a story or plan). \"they concocted a preposterous but entertaining story\" synonyms:\tmake up, think up, dream up, fabricate, invent, contrive, manufacture, trump up\n",
        "\n",
        "* hardline: an uncompromising adherence to a firm policy.\n",
        "\"he is known to take a hard line on sentencing policy for murder\""
      ]
    },
    {
      "metadata": {
        "id": "W0E2OkSOPgyi",
        "colab_type": "text"
      },
      "cell_type": "markdown",
      "source": [
        "# About the phrase 'in as many'\n",
        "------\n",
        "The phrase in as many days can be a confusing idiom.\n",
        "\n",
        "A dictionary user writes: \"What does in as many days mean in the following sentence?\":\n",
        "\n",
        " The police began a painstaking examination of their third crime scene in as many days.\n",
        "\n",
        " \n",
        "\n",
        "Associate editor Ilya Davidovich responds:\n",
        "\n",
        " \n",
        "\n",
        "The phrase in as many days (or weeks, years, etc.) refers to how often something happens. Specifically, it tells you that the number of events is the same as the number of days (or weeks or years).\n",
        "\n",
        "In the above example, the police have examined three crime scenes in three days. This phrase is usually used when something (in this case, a crime) has happened more often than might be expected:\n",
        "\n",
        " Usually we have one or two crime scenes per week, but now we've examined three in as many days.\n",
        "\n",
        "It might also suggest extra hardship or difficulty:\n",
        "\n",
        " I have three projects due in as many days. \n",
        "\n",
        "Note that this does not necessarily mean that the event happens once each day. For example, the police might have examined two crime scenes on the first day, none the second day, and one more on the third day."
      ]
    },
    {
      "metadata": {
        "id": "FFUQV_dTAEEj",
        "colab_type": "text"
      },
      "cell_type": "markdown",
      "source": [
        "# walk out without a deal?\n",
        "------\n",
        "Last week MPs also rejected a no-deal Brexit, while an absolute majority of MPs rejected a “people's vote” by 334 votes to 85."
      ]
    },
    {
      "metadata": {
        "id": "CFG-uyC_9KzH",
        "colab_type": "text"
      },
      "cell_type": "markdown",
      "source": [
        "# Words etc.\n",
        "------\n",
        "* swindle: use deception to deprive (someone) of money or possessions. e.g. A businessman swindled investors out of millions of dollars.\n",
        "\n",
        "* exorbitant: (of a price or amount charged) unreasonably high. e.g. the exorbitant price of tickets\n",
        "\n",
        "* sting: swindle or exorbitantly overcharge (someone). e.g. an elaborate fraud that stung a bank for thousands\n",
        "\n",
        "* mockery: teasing and contemptuous language or behavior directed at a particular person or thing. e.g. stung by her mockery, Frankie hung his head\n",
        "\n",
        "* derision: contemptuous ridicule or mockery.\n",
        "\n",
        "* dissent: the expression or holding of opinions at variance with those previously, commonly, or officially held. e.g. There was no dissent from this view. syn. \tdisagreement, lack of agreement, difference of opinion, argument, dispute, demur\n",
        "\n",
        "* excrement: waste matter discharged from the bowels; feces.\n",
        "\n",
        "* indicative: serving as a sign or indication of something. synonyms:\tsymptomatic, expressive, suggestive, evocative, typical, characteristic, representative, symbolic, emblematic; archaicindicatory \"the President's visit was indicative of improving diplomatic relations\"\n",
        "\n",
        "* proposterous: contrary to reason or common sense; utterly absurd or ridiculous. \"a preposterous suggestion\"\n",
        "\n",
        "* vouch: assert or confirm as a result of one's own experience that something is true or accurately so described.\n",
        "\"they say New York is the city that never sleeps, and I can certainly vouch for that\"\n",
        "\n",
        "* decry: publicly denounce. \"they decried human rights abuses\" synonyms: denounce, condemn, criticize, censure, damn, attack, fulminate against, rail against, inveigh against, blame, carp at, cavil at, run down, pillory, rap, lambaste, deplore, disapprove of, vilify, execrate, revile;\n",
        "\n",
        "* treasonous: involving or guilty of the crime of betraying one's country.\n",
        "\"a treasonous act against the State\""
      ]
    },
    {
      "metadata": {
        "id": "xcTLFFfcT0Uq",
        "colab_type": "text"
      },
      "cell_type": "markdown",
      "source": [
        "# Norway-style set-up\n",
        "-----\n",
        "The Norway model includes two key European organisations: The European Free Trade Association (EFTA) and European Economic Area (EEA). Norway, along with Lichtenstein and Iceland, is a member of both.\n",
        "\n",
        "FTA is made up of the aforementioned three countries, plus Switzerland. They trade between themselves while the group as a whole has free trade deals with numerous non-EU countries, Canada, Mexico and others.\n",
        "\n",
        "The EEA, on the other hand, is a collaboration of all EU member states plus three EFTA states: Norway, Lichtenstein, and Iceland. All EEA members — including the EFTA countries — enjoy full access to the European single market.\n",
        "\n",
        "EEA membership is only available to either EU or EFTA member states. So, under a Norway-style Brexit, Britain would leave the EU, join EFTA, and then become the 31st full member of the EEA.\n",
        "\n",
        "<img src=\"https://www.google.com/imgres?imgurl=http%3A%2F%2Fwww.euro-dollar-currency.com%2Feuropic%2Feu_member_states.png&imgrefurl=http%3A%2F%2Fwww.euro-dollar-currency.com%2Feu_member_states.htm&docid=Xc6eKkMcf9r-IM&tbnid=cLtTwrKkQPzQIM%3A&vet=10ahUKEwiYpKaaqJPhAhVJPrwKHeB3AAUQMwhUKAEwAQ..i&w=317&h=410&bih=599&biw=1280&q=members%20eu&ved=0ahUKEwiYpKaaqJPhAhVJPrwKHeB3AAUQMwhUKAEwAQ&iact=mrc&uact=8\">"
      ]
    }
  ]
}